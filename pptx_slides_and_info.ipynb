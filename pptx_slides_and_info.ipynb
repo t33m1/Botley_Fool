{
 "cells": [
  {
   "cell_type": "markdown",
   "metadata": {},
   "source": [
    "You are free to structure your presentations to your liking, but students tend to have success with the following format.\n",
    "\n",
    "* Title Slide\n",
    "  * Include the name of the project and group members.\n",
    "      * DONE\n",
    "* Motivation & Summary Slide\n",
    "  * Define the core message or hypothesis of your project.\n",
    "    ^### Which of these indiciators historically has proven to forecast the best returns on equities\n",
    "  * Describe the questions you asked, and _why_ you asked them.\n",
    "    *### Which Indicators or group of Indicators has the least deviation from actual value, therefore providing the the best returns.\n",
    "  * Describe whether you were able to answer these questions to your satisfaction, and briefly summarize your findings.\n",
    "    * \n",
    "* Questions & Data\n",
    "  * Elaborate on the questions you asked, describing what kinds of data you needed to answer them and where you found it.\n",
    "* Data Cleanup & Exploration\n",
    "  * Describe the exploration and cleanup process.\n",
    "  * Discuss insights you had while exploring the data that you didn't anticipate.\n",
    "  * Discuss any problems that arose after exploring the data, and how you resolved them.\n",
    "  * Present and discuss interesting figures developed during exploration, ideally with the help of Jupyter Notebook.\n",
    "  \n",
    "* Data Analysis\n",
    "  * Discuss the steps you took to analyze the data and answer each question you asked in your proposal.\n",
    "  * Present and discuss interesting figures developed during analysis, ideally with the help of Jupyter Notebook.\n",
    "  \n",
    "* Discussion\n",
    "  * Discuss your findings. Did you find what you expected to find? If not, why not? What inferences or general conclusions can you draw from your analysis?\n",
    "  \n",
    "* Postmortem\n",
    "  * Discuss any difficulties that arose, and how you dealt with them.\n",
    "  * Discuss any additional questions that came up, but which you didn't have time to answer: What would you research next, if you had two more weeks?\n",
    "  \n",
    "* Questions\n",
    "  * Open-floor Q&A with the audience"
   ]
  }
 ],
 "metadata": {
  "kernelspec": {
   "display_name": "Python 3",
   "language": "python",
   "name": "python3"
  },
  "language_info": {
   "codemirror_mode": {
    "name": "ipython",
    "version": 3
   },
   "file_extension": ".py",
   "mimetype": "text/x-python",
   "name": "python",
   "nbconvert_exporter": "python",
   "pygments_lexer": "ipython3",
   "version": "3.8.3"
  }
 },
 "nbformat": 4,
 "nbformat_minor": 4
}
