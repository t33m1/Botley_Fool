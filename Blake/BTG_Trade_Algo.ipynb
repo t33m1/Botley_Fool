{
 "cells": [
  {
   "cell_type": "code",
   "execution_count": 1,
   "metadata": {},
   "outputs": [],
   "source": [
    "import os\n",
    "import requests\n",
    "import pandas as pd\n",
    "from dotenv import load_dotenv\n",
    "import alpaca_trade_api as tradeapi\n",
    "import alpha_vantage as av\n",
    "from alpha_vantage.alphavantage import AlphaVantage\n",
    "from alpha_vantage.techindicators import TechIndicators as ti\n",
    "from alpha_vantage.alphavantage import csv\n",
    "from alpha_vantage.timeseries import TimeSeries as ts\n",
    "import smtplib\n",
    "from email.mime.multipart import MIMEMultipart\n",
    "from email.mime.text import MIMEText"
   ]
  },
  {
   "cell_type": "code",
   "execution_count": 2,
   "metadata": {},
   "outputs": [
    {
     "data": {
      "text/plain": [
       "True"
      ]
     },
     "execution_count": 2,
     "metadata": {},
     "output_type": "execute_result"
    }
   ],
   "source": [
    "# Load .env enviroment variables\n",
    "load_dotenv()"
   ]
  },
  {
   "cell_type": "code",
   "execution_count": 3,
   "metadata": {},
   "outputs": [],
   "source": [
    "# Set email variables\n",
    "sender_password = os.getenv(\"SENDER_PASSWORD\")\n",
    "sender_address = 'boltleyfool@gmail.com' \n",
    "receiver_address = 'boltleyfool@gmail.com'"
   ]
  },
  {
   "cell_type": "markdown",
   "metadata": {},
   "source": [
    "### Create Alpaca API object, get account, list positions, and check if market is open"
   ]
  },
  {
   "cell_type": "code",
   "execution_count": 4,
   "metadata": {},
   "outputs": [
    {
     "data": {
      "text/html": [
       "<div>\n",
       "<style scoped>\n",
       "    .dataframe tbody tr th:only-of-type {\n",
       "        vertical-align: middle;\n",
       "    }\n",
       "\n",
       "    .dataframe tbody tr th {\n",
       "        vertical-align: top;\n",
       "    }\n",
       "\n",
       "    .dataframe thead th {\n",
       "        text-align: right;\n",
       "    }\n",
       "</style>\n",
       "<table border=\"1\" class=\"dataframe\">\n",
       "  <thead>\n",
       "    <tr style=\"text-align: right;\">\n",
       "      <th></th>\n",
       "      <th>ticker</th>\n",
       "      <th>qty</th>\n",
       "      <th>lastday_price</th>\n",
       "      <th>current_price</th>\n",
       "      <th>change_today</th>\n",
       "      <th>market_value</th>\n",
       "      <th>unrealized_intraday_pl</th>\n",
       "      <th>unrealized_intraday_plpc</th>\n",
       "    </tr>\n",
       "  </thead>\n",
       "  <tbody>\n",
       "    <tr>\n",
       "      <th>0</th>\n",
       "      <td>RCL</td>\n",
       "      <td>100</td>\n",
       "      <td>67.99</td>\n",
       "      <td>68.5</td>\n",
       "      <td>0.0075011031033976</td>\n",
       "      <td>6850</td>\n",
       "      <td>51</td>\n",
       "      <td>0.0075011031033976</td>\n",
       "    </tr>\n",
       "    <tr>\n",
       "      <th>1</th>\n",
       "      <td>NVDA</td>\n",
       "      <td>10</td>\n",
       "      <td>610.03</td>\n",
       "      <td>612.7</td>\n",
       "      <td>0.0043768339262004</td>\n",
       "      <td>6127</td>\n",
       "      <td>26.7</td>\n",
       "      <td>0.0043768339262004</td>\n",
       "    </tr>\n",
       "    <tr>\n",
       "      <th>2</th>\n",
       "      <td>GOOG</td>\n",
       "      <td>10</td>\n",
       "      <td>2095.89</td>\n",
       "      <td>2092</td>\n",
       "      <td>-0.0018560134358196</td>\n",
       "      <td>20920</td>\n",
       "      <td>-38.9</td>\n",
       "      <td>-0.0018560134358196</td>\n",
       "    </tr>\n",
       "    <tr>\n",
       "      <th>3</th>\n",
       "      <td>FVRR</td>\n",
       "      <td>100</td>\n",
       "      <td>302.91</td>\n",
       "      <td>304</td>\n",
       "      <td>0.0035984285761447</td>\n",
       "      <td>30400</td>\n",
       "      <td>109</td>\n",
       "      <td>0.0035984285761447</td>\n",
       "    </tr>\n",
       "    <tr>\n",
       "      <th>4</th>\n",
       "      <td>FTNT</td>\n",
       "      <td>50</td>\n",
       "      <td>163.01</td>\n",
       "      <td>163.01</td>\n",
       "      <td>0</td>\n",
       "      <td>8150.5</td>\n",
       "      <td>0</td>\n",
       "      <td>0</td>\n",
       "    </tr>\n",
       "  </tbody>\n",
       "</table>\n",
       "</div>"
      ],
      "text/plain": [
       "  ticker  qty lastday_price current_price         change_today market_value  \\\n",
       "0    RCL  100         67.99          68.5   0.0075011031033976         6850   \n",
       "1   NVDA   10        610.03         612.7   0.0043768339262004         6127   \n",
       "2   GOOG   10       2095.89          2092  -0.0018560134358196        20920   \n",
       "3   FVRR  100        302.91           304   0.0035984285761447        30400   \n",
       "4   FTNT   50        163.01        163.01                    0       8150.5   \n",
       "\n",
       "  unrealized_intraday_pl unrealized_intraday_plpc  \n",
       "0                     51       0.0075011031033976  \n",
       "1                   26.7       0.0043768339262004  \n",
       "2                  -38.9      -0.0018560134358196  \n",
       "3                    109       0.0035984285761447  \n",
       "4                      0                        0  "
      ]
     },
     "execution_count": 4,
     "metadata": {},
     "output_type": "execute_result"
    }
   ],
   "source": [
    "# Specify paper trading environment & set API keys\n",
    "alpaca_paper_endpoint = os.getenv(\"ALPACA_PAPER_ENDPOINT\")\n",
    "alpaca_api_key = os.getenv(\"ALPACA_API_KEY\")\n",
    "alpaca_secret_key = os.getenv(\"ALPACA_SECRET_KEY\")\n",
    "# Create alpaca API object\n",
    "alpaca_api = tradeapi.REST(\n",
    "    alpaca_api_key,\n",
    "    alpaca_secret_key,\n",
    "    alpaca_paper_endpoint,\n",
    "    api_version = 'v2'\n",
    ")\n",
    "# Get Alpaca Account\n",
    "account = alpaca_api.get_account()\n",
    "# Get positions and check market open/closed\n",
    "clock = alpaca_api.get_clock()\n",
    "positions = alpaca_api.list_positions()\n",
    "# Put positions and extra info into DataFrame\n",
    "positions_df = pd.DataFrame({\n",
    "    'ticker': [x.symbol for x in positions],\n",
    "    'qty': [x.qty for x in positions],\n",
    "    'lastday_price': [x.lastday_price for x in positions],\n",
    "    'current_price': [x.current_price for x in positions],\n",
    "    'change_today': [x.change_today for x in positions],\n",
    "    'market_value': [x.market_value for x in positions],\n",
    "    'unrealized_intraday_pl': [x.unrealized_intraday_pl for x in positions],\n",
    "    'unrealized_intraday_plpc': [x.unrealized_intraday_plpc for x in positions],\n",
    "})\n",
    "# Display some portfolio data\n",
    "positions_df.head()"
   ]
  },
  {
   "cell_type": "markdown",
   "metadata": {},
   "source": [
    "### Define AlphaVantage URL, API key, and variables\n",
    "* Sample URL for querying a technical indicator on a position:\n",
    " * https://www.alphavantage.co/query?function=HT_TRENDLINE&symbol=IBM&interval=daily&series_type=close&apikey=demo"
   ]
  },
  {
   "cell_type": "code",
   "execution_count": 5,
   "metadata": {},
   "outputs": [],
   "source": [
    "# Get AlphaVantage API Key\n",
    "av_api_key = os.getenv(\"ALPHAVANTAGE_API_KEY\")\n",
    "# Set AlphaVantage API URL\n",
    "av_api = 'https://www.alphavantage.co/query?'\n",
    "# Define variables used across all technical indicators\n",
    "interval = '30min'"
   ]
  },
  {
   "cell_type": "code",
   "execution_count": 6,
   "metadata": {},
   "outputs": [],
   "source": [
    "#Trading algorithm\n",
    "def get_obv(symbol_obv):\n",
    "    if clock.is_open==True:\n",
    "        mail_content=\"Market is open\"\n",
    "        if bool(positions) == False:\n",
    "            for obv in symbol_obv:\n",
    "                query = {'function':'OBV','symbol':p.ticker,'interval':interval,'apikey':av_api_key}\n",
    "                response = requests.get(av_api, params = query)\n",
    "                response_dict = response.json()\n",
    "                _, header = response.json()\n",
    "            # Convert to DataFrame\n",
    "                obv_df = pd.DataFrame.from_dict(response_dict[header], orient = 'index')\n",
    "            # Clean up column names\n",
    "                df_cols = [i.split(' ')[1] for i in df.columns]\n",
    "                df.columns = df_cols\n",
    "                df.set_index('timestamp', inplace=True)\n",
    "            #ex. OBV rises etc.\n",
    "            if []:\n",
    "                api.submit_order(symbol = stockDEF, qty = number_of_shares,side = 'buy',type = 'market' ,time_in_force = 'day')\n",
    "                mail_content = \"Trades have been made, XYZ...\"\n",
    "            #ex. OBV drops etc.\n",
    "            elif []:\n",
    "                api.submit_order(stockABC = stockDEF, qty = number_of_shares,side = 'sell',type = 'market', time_in_force ='day')\n",
    "                mail_content = \"Trades have been made, XYZ...\" \n",
    "        else:\n",
    "            if bool(positions) == True:\n",
    "                api.close_position(stockABC)\n",
    "                api.open_position(stockDEF)\n",
    "                mail_content = \"XYZ positions have been traded\"\n",
    "            else:\n",
    "                mail_content = \"No trades were made, positions remains the same\"\n",
    "                pass\n",
    "    else:\n",
    "        mail_content=\"Market is closed\"\n",
    "# Configure MIME objects\n",
    "    message = MIMEMultipart()\n",
    "    message['From'] = 'Botley'\n",
    "    message['To'] = receiver_address\n",
    "    message['Subject'] = 'Trade Notification'\n",
    "# Set body and attachments for the email\n",
    "    message.attach(MIMEText(mail_content,'plain'))\n",
    "# Create SMTP session using gmail server\n",
    "    session = smtplib.SMTP('smtp.gmail.com', 587)\n",
    "# Start transport layer security\n",
    "    session.starttls()\n",
    "# Login sender\n",
    "    session.login(sender_address,sender_password)\n",
    "# Set mail_content to string\n",
    "    text = message.as_string()\n",
    "# Send the email\n",
    "    session.sendmail(sender_address,receiver_address,text)\n",
    "    session.quit()\n",
    "    \n",
    "    done = 'OBV Trade Email Sent'\n",
    "\n",
    "    return done"
   ]
  },
  {
   "cell_type": "code",
   "execution_count": 7,
   "metadata": {},
   "outputs": [
    {
     "data": {
      "text/plain": [
       "True"
      ]
     },
     "execution_count": 7,
     "metadata": {},
     "output_type": "execute_result"
    }
   ],
   "source": [
    "bool(positions)"
   ]
  },
  {
   "cell_type": "code",
   "execution_count": 8,
   "metadata": {},
   "outputs": [
    {
     "data": {
      "text/plain": [
       "False"
      ]
     },
     "execution_count": 8,
     "metadata": {},
     "output_type": "execute_result"
    }
   ],
   "source": [
    "clock.is_open"
   ]
  },
  {
   "cell_type": "code",
   "execution_count": null,
   "metadata": {},
   "outputs": [],
   "source": [
    "obv_df.head()"
   ]
  }
 ],
 "metadata": {
  "kernelspec": {
   "display_name": "Python 3",
   "language": "python",
   "name": "python3"
  },
  "language_info": {
   "codemirror_mode": {
    "name": "ipython",
    "version": 3
   },
   "file_extension": ".py",
   "mimetype": "text/x-python",
   "name": "python",
   "nbconvert_exporter": "python",
   "pygments_lexer": "ipython3",
   "version": "3.8.5"
  }
 },
 "nbformat": 4,
 "nbformat_minor": 4
}
