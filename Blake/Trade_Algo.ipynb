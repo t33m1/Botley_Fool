{
 "cells": [
  {
   "cell_type": "code",
   "execution_count": 7,
   "metadata": {},
   "outputs": [],
   "source": [
    "import os\n",
    "import requests\n",
    "import pandas as pd\n",
    "from dotenv import load_dotenv\n",
    "import alpaca_trade_api as tradeapi\n",
    "import alpha_vantage as av_api\n",
    "from alpha_vantage.alphavantage import AlphaVantage\n",
    "from alpha_vantage.techindicators import TechIndicators as ti\n",
    "from alpha_vantage.alphavantage import csv\n",
    "from alpha_vantage.timeseries import TimeSeries as ts\n",
    "import smtplib\n",
    "from email.mime.multipart import MIMEMultipart\n",
    "from email.mime.text import MIMEText"
   ]
  },
  {
   "cell_type": "code",
   "execution_count": 8,
   "metadata": {},
   "outputs": [
    {
     "data": {
      "text/plain": [
       "True"
      ]
     },
     "execution_count": 8,
     "metadata": {},
     "output_type": "execute_result"
    }
   ],
   "source": [
    "# Load .env enviroment variables\n",
    "load_dotenv()"
   ]
  },
  {
   "cell_type": "code",
   "execution_count": 9,
   "metadata": {},
   "outputs": [],
   "source": [
    "# Set email variables\n",
    "sender_password = os.getenv(\"SENDER_PASSWORD\")\n",
    "sender_address = 'boltleyfool@gmail.com' \n",
    "receiver_address = 'boltleyfool@gmail.com'"
   ]
  },
  {
   "cell_type": "markdown",
   "metadata": {},
   "source": [
    "## Create Alpaca API object, get account, list positions, and check if the market is open"
   ]
  },
  {
   "cell_type": "code",
   "execution_count": 10,
   "metadata": {},
   "outputs": [],
   "source": [
    "# Specify paper trading environment & set API keys\n",
    "alpaca_paper_endpoint = os.getenv(\"ALPACA_PAPER_ENDPOINT\")\n",
    "alpaca_api_key = os.getenv(\"ALPACA_API_KEY\")\n",
    "alpaca_secret_key = os.getenv(\"ALPACA_SECRET_KEY\")\n",
    "\n",
    "# Create alpaca API object\n",
    "alpaca_api = tradeapi.REST(\n",
    "    alpaca_api_key,\n",
    "    alpaca_secret_key,\n",
    "    alpaca_paper_endpoint,\n",
    "    api_version = 'v2'\n",
    ")\n",
    "\n",
    "# Get Alpaca Account\n",
    "account = alpaca_api.get_account()\n",
    "\n",
    "# Get Alpaca portfolio and check market clock\n",
    "portfolio = alpaca_api.list_positions()\n",
    "clock = alpaca_api.get_clock()"
   ]
  },
  {
   "cell_type": "markdown",
   "metadata": {},
   "source": [
    "## Create AlphaVantage Technical Indicators API object and assign indicator variables\n",
    "\n",
    "* Sample URL: https://www.alphavantage.co/query?function=HT_TRENDLINE&symbol=IBM&interval=daily&series_type=close&apikey=demo"
   ]
  },
  {
   "cell_type": "code",
   "execution_count": null,
   "metadata": {},
   "outputs": [],
   "source": [
    "# Configure AlphaVantage API object and query variable\n",
    "av_url = 'https://www.alphavantage.co/query?'\n",
    "query ="
   ]
  },
  {
   "cell_type": "code",
   "execution_count": null,
   "metadata": {},
   "outputs": [],
   "source": [
    "#Trading algorithm\n",
    "def MKG_trading_algo():\n",
    "    if clock.is_open == True:\n",
    "        if bool(portfolio) == False:\n",
    "            #ex. MACD rises etc.\n",
    "            if []:\n",
    "                api.submit_order(symbol = stockDEF, qty = number_of_shares,side = 'buy',type = 'market' ,time_in_force = 'day')\n",
    "                mail_content = \"Trades have been made, XYZ...\"\n",
    "            #ex.MACD drops etc.\n",
    "            elif []:\n",
    "                api.submit_order(stockABC = stockDEF, qty = number_of_shares,side = 'sell',type = 'market', time_in_force ='day')\n",
    "                mail_content = \"Trades have been made, XYZ...\" \n",
    "        else:\n",
    "            if []:\n",
    "                api.close_position(stockABC)\n",
    "                api.open_position(stockDEF)\n",
    "                mail_content = \"XYZ positions have been traded\"\n",
    "            else:\n",
    "                mail_content = \"No trades were made, positions remains the same\"\n",
    "                pass\n",
    "    else:\n",
    "        mail_content = \"The Market is Closed\"\n",
    "    \n",
    "    #Setup MIME\n",
    "    message = MIMEMultipart()\n",
    "    message['From'] = 'Botley'\n",
    "    message['To'] = receiver_address\n",
    "    message['Subject'] = 'Trade Notification'\n",
    "    \n",
    "    #The body and the attachments for the mail\n",
    "    message.attach(MIMEText(mail_content,'plain'))\n",
    "    \n",
    "    #Create SMTP session using gmail and port 587\n",
    "    session = smtplib.SMTP('smtp.gmail.com', 587)\n",
    "    \n",
    "    #Start transport layer security\n",
    "    session.starttls()\n",
    "    \n",
    "    #Login\n",
    "    session.login(sender_address,sender_password)\n",
    "    \n",
    "    #Set Text\n",
    "    text = message.as_string()\n",
    "    \n",
    "    #Send the email\n",
    "    session.sendmail(sender_address,receiver_address,text)\n",
    "    session.quit()\n",
    "    \n",
    "    done = 'Email Sent'\n",
    "\n",
    "    return done"
   ]
  }
 ],
 "metadata": {
  "kernelspec": {
   "display_name": "Python 3",
   "language": "python",
   "name": "python3"
  },
  "language_info": {
   "codemirror_mode": {
    "name": "ipython",
    "version": 3
   },
   "file_extension": ".py",
   "mimetype": "text/x-python",
   "name": "python",
   "nbconvert_exporter": "python",
   "pygments_lexer": "ipython3",
   "version": "3.8.5"
  }
 },
 "nbformat": 4,
 "nbformat_minor": 4
}
