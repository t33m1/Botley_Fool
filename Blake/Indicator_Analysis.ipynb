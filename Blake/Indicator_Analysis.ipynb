{
 "cells": [
  {
   "cell_type": "code",
   "execution_count": 1,
   "metadata": {},
   "outputs": [],
   "source": [
    "import os\n",
    "import time\n",
    "import requests\n",
    "import pandas as pd\n",
    "from dotenv import load_dotenv\n",
    "import alpaca_trade_api as tradeapi\n",
    "import alpha_vantage as av\n",
    "from alpha_vantage.alphavantage import AlphaVantage\n",
    "from alpha_vantage.techindicators import TechIndicators\n",
    "from alpha_vantage.alphavantage import csv\n",
    "from alpha_vantage.timeseries import TimeSeries as ts\n",
    "import matplotlib.pyplot as plt"
   ]
  },
  {
   "cell_type": "code",
   "execution_count": 2,
   "metadata": {},
   "outputs": [
    {
     "data": {
      "text/plain": [
       "True"
      ]
     },
     "execution_count": 2,
     "metadata": {},
     "output_type": "execute_result"
    }
   ],
   "source": [
    "# Load .env enviroment variables\n",
    "load_dotenv()"
   ]
  },
  {
   "cell_type": "code",
   "execution_count": 3,
   "metadata": {},
   "outputs": [
    {
     "data": {
      "text/html": [
       "<div>\n",
       "<style scoped>\n",
       "    .dataframe tbody tr th:only-of-type {\n",
       "        vertical-align: middle;\n",
       "    }\n",
       "\n",
       "    .dataframe tbody tr th {\n",
       "        vertical-align: top;\n",
       "    }\n",
       "\n",
       "    .dataframe thead th {\n",
       "        text-align: right;\n",
       "    }\n",
       "</style>\n",
       "<table border=\"1\" class=\"dataframe\">\n",
       "  <thead>\n",
       "    <tr style=\"text-align: right;\">\n",
       "      <th></th>\n",
       "      <th>ticker</th>\n",
       "      <th>qty</th>\n",
       "      <th>lastday_price</th>\n",
       "      <th>current_price</th>\n",
       "      <th>change_today</th>\n",
       "      <th>market_value</th>\n",
       "      <th>unrealized_intraday_pl</th>\n",
       "      <th>unrealized_intraday_plpc</th>\n",
       "    </tr>\n",
       "  </thead>\n",
       "  <tbody>\n",
       "    <tr>\n",
       "      <th>0</th>\n",
       "      <td>RCL</td>\n",
       "      <td>100</td>\n",
       "      <td>67.63</td>\n",
       "      <td>67.6</td>\n",
       "      <td>-0.0004435901227266</td>\n",
       "      <td>6760</td>\n",
       "      <td>-3</td>\n",
       "      <td>-0.0004435901227266</td>\n",
       "    </tr>\n",
       "    <tr>\n",
       "      <th>1</th>\n",
       "      <td>NVDA</td>\n",
       "      <td>10</td>\n",
       "      <td>598.45</td>\n",
       "      <td>598.2</td>\n",
       "      <td>-0.0004177458434289</td>\n",
       "      <td>5982</td>\n",
       "      <td>-2.5</td>\n",
       "      <td>-0.0004177458434289</td>\n",
       "    </tr>\n",
       "    <tr>\n",
       "      <th>2</th>\n",
       "      <td>GOOG</td>\n",
       "      <td>10</td>\n",
       "      <td>2104.11</td>\n",
       "      <td>2104.11</td>\n",
       "      <td>0</td>\n",
       "      <td>21041.1</td>\n",
       "      <td>0</td>\n",
       "      <td>0</td>\n",
       "    </tr>\n",
       "    <tr>\n",
       "      <th>3</th>\n",
       "      <td>FVRR</td>\n",
       "      <td>100</td>\n",
       "      <td>323.1</td>\n",
       "      <td>325</td>\n",
       "      <td>0.0058805323429279</td>\n",
       "      <td>32500</td>\n",
       "      <td>190</td>\n",
       "      <td>0.0058805323429279</td>\n",
       "    </tr>\n",
       "    <tr>\n",
       "      <th>4</th>\n",
       "      <td>FTNT</td>\n",
       "      <td>50</td>\n",
       "      <td>164.73</td>\n",
       "      <td>164.73</td>\n",
       "      <td>0</td>\n",
       "      <td>8236.5</td>\n",
       "      <td>0</td>\n",
       "      <td>0</td>\n",
       "    </tr>\n",
       "    <tr>\n",
       "      <th>5</th>\n",
       "      <td>CPE</td>\n",
       "      <td>500</td>\n",
       "      <td>23.18</td>\n",
       "      <td>23.3</td>\n",
       "      <td>0.0051768766177739</td>\n",
       "      <td>11650</td>\n",
       "      <td>60</td>\n",
       "      <td>0.0051768766177739</td>\n",
       "    </tr>\n",
       "  </tbody>\n",
       "</table>\n",
       "</div>"
      ],
      "text/plain": [
       "  ticker  qty lastday_price current_price         change_today market_value  \\\n",
       "0    RCL  100         67.63          67.6  -0.0004435901227266         6760   \n",
       "1   NVDA   10        598.45         598.2  -0.0004177458434289         5982   \n",
       "2   GOOG   10       2104.11       2104.11                    0      21041.1   \n",
       "3   FVRR  100         323.1           325   0.0058805323429279        32500   \n",
       "4   FTNT   50        164.73        164.73                    0       8236.5   \n",
       "5    CPE  500         23.18          23.3   0.0051768766177739        11650   \n",
       "\n",
       "  unrealized_intraday_pl unrealized_intraday_plpc  \n",
       "0                     -3      -0.0004435901227266  \n",
       "1                   -2.5      -0.0004177458434289  \n",
       "2                      0                        0  \n",
       "3                    190       0.0058805323429279  \n",
       "4                      0                        0  \n",
       "5                     60       0.0051768766177739  "
      ]
     },
     "execution_count": 3,
     "metadata": {},
     "output_type": "execute_result"
    }
   ],
   "source": [
    "# Specify paper trading environment & set API keys\n",
    "alpaca_paper_endpoint = os.getenv(\"ALPACA_PAPER_ENDPOINT\")\n",
    "alpaca_api_key = os.getenv(\"ALPACA_API_KEY\")\n",
    "alpaca_secret_key = os.getenv(\"ALPACA_SECRET_KEY\")\n",
    "# Create alpaca API object\n",
    "alpaca_api = tradeapi.REST(\n",
    "    alpaca_api_key,\n",
    "    alpaca_secret_key,\n",
    "    alpaca_paper_endpoint,\n",
    "    api_version = 'v2'\n",
    ")\n",
    "# Get Alpaca Account\n",
    "account = alpaca_api.get_account()\n",
    "# Get positions and check market open/closed\n",
    "clock = alpaca_api.get_clock()\n",
    "positions = alpaca_api.list_positions()\n",
    "# Put positions and extra info into DataFrame\n",
    "positions_df = pd.DataFrame({\n",
    "    'ticker': [x.symbol for x in positions],\n",
    "    'qty': [x.qty for x in positions],\n",
    "    'lastday_price': [x.lastday_price for x in positions],\n",
    "    'current_price': [x.current_price for x in positions],\n",
    "    'change_today': [x.change_today for x in positions],\n",
    "    'market_value': [x.market_value for x in positions],\n",
    "    'unrealized_intraday_pl': [x.unrealized_intraday_pl for x in positions],\n",
    "    'unrealized_intraday_plpc': [x.unrealized_intraday_plpc for x in positions],\n",
    "})\n",
    "positions_df"
   ]
  },
  {
   "cell_type": "code",
   "execution_count": 4,
   "metadata": {},
   "outputs": [
    {
     "data": {
      "text/plain": [
       "['RCL', 'NVDA', 'GOOG', 'FVRR', 'FTNT', 'CPE']"
      ]
     },
     "execution_count": 4,
     "metadata": {},
     "output_type": "execute_result"
    }
   ],
   "source": [
    "positions_tickers=positions_df.ticker.tolist()\n",
    "positions_tickers"
   ]
  },
  {
   "cell_type": "code",
   "execution_count": 5,
   "metadata": {},
   "outputs": [],
   "source": [
    "# Get AlphaVantage API Key\n",
    "av_api_key = os.getenv(\"ALPHAVANTAGE_API_KEY\")\n",
    "# Set AlphaVantage URL\n",
    "av_api = 'https://www.alphavantage.co/query?'"
   ]
  },
  {
   "cell_type": "code",
   "execution_count": 6,
   "metadata": {},
   "outputs": [],
   "source": [
    "# Define indicators amd indicator parameters for AlphaVantage API for each ticker\n",
    "functions_list = ['SMA','EMA','RSI','MACD','BBANDS']\n",
    "interval='daily'\n",
    "time_period='10'\n",
    "series_type='close'\n",
    "response_dict = {}\n",
    "function_responses={}"
   ]
  },
  {
   "cell_type": "code",
   "execution_count": 7,
   "metadata": {},
   "outputs": [],
   "source": [
    "def get_position_indicators(functions_list, positions_tickers):\n",
    "    print(\"Starting loops...\\n\")\n",
    "    for x in positions_tickers:\n",
    "        print(f'Starting {x} ticker')\n",
    "        function_responses={}\n",
    "        for fun in functions_list:\n",
    "            print(f\"Making query for {fun} for {x} ticker...\")\n",
    "            query={'function':fun,'symbol':x,'interval':interval,'time_period':time_period,'series_type':series_type,'apikey':av_api_key}\n",
    "            print(\"Making the request...\")\n",
    "            response=requests.get(av_api,params=query)\n",
    "            print(\"Converting to json...\")\n",
    "            response_dict = response.json()\n",
    "            print(\"Saving to dict...\")\n",
    "            function_responses[fun]=response_dict\n",
    "            print(\"Sleeping for 13 seconds...\")\n",
    "            time.sleep(13)\n",
    "            print(\"Moving to next ticker... \\n\")\n",
    "        print(\"FINAL... Saving to response dict...\")\n",
    "        response_dict[x]=function_responses\n",
    "    return response_dict"
   ]
  },
  {
   "cell_type": "code",
   "execution_count": 8,
   "metadata": {},
   "outputs": [],
   "source": [
    "# # Convert to DataFrame\n",
    "# response_df = pd.DataFrame.from_dict(response_dict)\n",
    "# response_df"
   ]
  },
  {
   "cell_type": "code",
   "execution_count": 11,
   "metadata": {},
   "outputs": [
    {
     "data": {
      "text/plain": [
       "{}"
      ]
     },
     "execution_count": 11,
     "metadata": {},
     "output_type": "execute_result"
    }
   ],
   "source": [
    "function_responses"
   ]
  }
 ],
 "metadata": {
  "kernelspec": {
   "display_name": "Python 3",
   "language": "python",
   "name": "python3"
  },
  "language_info": {
   "codemirror_mode": {
    "name": "ipython",
    "version": 3
   },
   "file_extension": ".py",
   "mimetype": "text/x-python",
   "name": "python",
   "nbconvert_exporter": "python",
   "pygments_lexer": "ipython3",
   "version": "3.8.5"
  }
 },
 "nbformat": 4,
 "nbformat_minor": 4
}
