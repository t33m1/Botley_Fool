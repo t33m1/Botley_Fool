{
 "cells": [
  {
   "cell_type": "code",
   "execution_count": null,
   "metadata": {},
   "outputs": [],
   "source": [
    "import os\n",
    "import requests\n",
    "import pandas as pd\n",
    "from dotenv import load_dotenv\n",
    "import matplotlib.pyplot as plt\n",
    "import alpaca_trade_api as tradeapi\n",
    "import alpha_vantage as av_api\n",
    "from alpha_vantage.alphavantage import AlphaVantage\n",
    "from alpha_vantage.techindicators import TechIndicators as ti\n",
    "from alpha_vantage.alphavantage import csv\n",
    "from alpha_vantage.timeseries import TimeSeries as ts\n",
    "import smtplib\n",
    "from email.mime.multipart import MIMEMultipart\n",
    "from email.mime.text import MIMEText\n",
    "\n"
   ]
  },
  {
   "cell_type": "code",
   "execution_count": null,
   "metadata": {},
   "outputs": [],
   "source": [
    "# Load .env enviroment variables\n",
    "load_dotenv()"
   ]
  },
  {
   "cell_type": "code",
   "execution_count": null,
   "metadata": {},
   "outputs": [],
   "source": [
    "# Set email variables\n",
    "sender_password = os.getenv(\"SENDER_PASSWORD\")\n",
    "sender_address = 'boltleyfool@gmail.com' \n",
    "receiver_address = 'mauricedure23@gmail.com'"
   ]
  },
  {
   "cell_type": "code",
   "execution_count": null,
   "metadata": {},
   "outputs": [],
   "source": [
    "# #Specify paper trading environment & set API keys\n",
    "# alpaca_paper_endpoint = os.getenv(\"ALPACA_PAPER_ENDPOINT\")\n",
    "# alpaca_api_key = os.getenv(\"ALPACA_API_KEY\")\n",
    "# alpaca_secret_key = os.getenv(\"ALPACA_SECRET_KEY\")\n",
    "# sender_password = os.getenv(\"Email_Password\")\n",
    "\n",
    "# #Create API object\n",
    "# alpaca_api = tradeapi.REST(\n",
    "#     alpaca_api_key,\n",
    "#     alpaca_secret_key,\n",
    "#     alpaca_paper_endpoint,\n",
    "#     api_version='v2'\n",
    "# )\n",
    "\n",
    "\n",
    "# #Get Account\n",
    "# account = alpaca_api.get_account()\n",
    "\n",
    "# #Get portfolio and clock\n",
    "# portfolio=alpaca_api.list_positions()\n",
    "# clock=alpaca_api.get_clock()"
   ]
  },
  {
   "cell_type": "code",
   "execution_count": null,
   "metadata": {},
   "outputs": [],
   "source": [
    "## Create AlphaVantage Technical Indicators API object and assign indicator variables"
   ]
  },
  {
   "cell_type": "code",
   "execution_count": 26,
   "metadata": {},
   "outputs": [
    {
     "name": "stdout",
     "output_type": "stream",
     "text": [
      "(            MACD_Hist    MACD  MACD_Signal\n",
      "date                                      \n",
      "2021-02-12    -0.4786  1.3923       1.8708\n",
      "2021-02-11    -0.4644  1.5261       1.9905\n",
      "2021-02-10    -0.4075  1.6991       2.1066\n",
      "2021-02-09    -0.3397  1.8688       2.2084\n",
      "2021-02-08    -0.2983  1.9950       2.2933\n",
      "...               ...     ...          ...\n",
      "1999-12-23    -0.0094  0.0201       0.0295\n",
      "1999-12-22    -0.0122  0.0196       0.0318\n",
      "1999-12-21    -0.0134  0.0214       0.0349\n",
      "1999-12-20    -0.0168  0.0215       0.0382\n",
      "1999-12-17    -0.0177  0.0247       0.0424\n",
      "\n",
      "[5323 rows x 3 columns], {'1: Symbol': 'aapl', '2: Indicator': 'Moving Average Convergence/Divergence (MACD)', '3: Last Refreshed': '2021-02-12', '4: Interval': 'daily', '5.1: Fast Period': 12, '5.2: Slow Period': 26, '5.3: Signal Period': 9, '6: Series Type': 'close', '7: Time Zone': 'US/Eastern'})\n"
     ]
    }
   ],
   "source": [
    "# Configure AlphaVantage API object and query variable\n",
    "api_key = os.getenv('ALPHAVANTAGE_API_KEY')\n",
    "\n",
    "base_url = 'https://www.alphavantage.co/query?'\n",
    "params = {'function': 'TIME_SERIES_DAILY_ADJUSTED',\n",
    "         'symbol': 'aapl',\n",
    "        'apikey': api_key}\n",
    "\n",
    "app = ti(output_format='pandas')\n",
    "\n",
    "aapl_macd = app.get_macd('aapl', fastperiod=12, slowperiod=26, signalperiod=9)\n",
    "\n",
    "print(aapl_macd)\n",
    "\n",
    "#Plot the MACD Indicator as a graph\n",
    "\n"
   ]
  },
  {
   "cell_type": "code",
   "execution_count": 34,
   "metadata": {},
   "outputs": [
    {
     "name": "stdout",
     "output_type": "stream",
     "text": [
      "(                         RSI\n",
      "date                        \n",
      "2021-01-05 18:30:00  44.6064\n",
      "2021-01-05 19:00:00  44.3871\n",
      "2021-01-05 19:30:00  44.3871\n",
      "2021-01-05 20:00:00  44.1625\n",
      "2021-01-06 04:30:00  38.9517\n",
      "...                      ...\n",
      "2021-02-12 18:00:00  51.6343\n",
      "2021-02-12 18:30:00  51.6343\n",
      "2021-02-12 19:00:00  51.1436\n",
      "2021-02-12 19:30:00  51.2378\n",
      "2021-02-12 20:00:00  51.2856\n",
      "\n",
      "[868 rows x 1 columns], {'1: Symbol': 'aapl', '2: Indicator': 'Relative Strength Index (RSI)', '3: Last Refreshed': '2021-02-12 20:00:00', '4: Interval': '30min', '5: Time Period': 60, '6: Series Type': 'close, open, high, low', '7: Time Zone': 'US/Eastern Time'})\n"
     ]
    },
    {
     "data": {
      "image/png": "[encoded data removed]",
      "text/plain": [
       "<Figure size 432x288 with 1 Axes>"
      ]
     },
     "metadata": {
      "needs_background": "light"
     },
     "output_type": "display_data"
    }
   ],
   "source": [
    "app_2 = ti(output_format='pandas')\n",
    "\n",
    "aapl_rsi = app.get_rsi('aapl', interval= '30min', time_period=60, series_type=['close, open, high, low'])\n",
    "\n",
    "fig, ax2 = plt.subplots()\n",
    "ax2.plot()\n",
    "\n",
    "aapl_rsi\n",
    "print(aapl_rsi)"
   ]
  },
  {
   "cell_type": "code",
   "execution_count": 37,
   "metadata": {},
   "outputs": [],
   "source": [
    "aapl_rsi=pd.DataFrame(aapl_rsi)"
   ]
  },
  {
   "cell_type": "code",
   "execution_count": 41,
   "metadata": {},
   "outputs": [
    {
     "ename": "TypeError",
     "evalue": "'RangeIndex' object is not callable",
     "output_type": "error",
     "traceback": [
      "\u001b[0;31m---------------------------------------------------------------------------\u001b[0m",
      "\u001b[0;31mTypeError\u001b[0m                                 Traceback (most recent call last)",
      "\u001b[0;32m<ipython-input-41-3b9e857fc9e5>\u001b[0m in \u001b[0;36m<module>\u001b[0;34m\u001b[0m\n\u001b[0;32m----> 1\u001b[0;31m \u001b[0maapl_rsi\u001b[0m\u001b[0;34m.\u001b[0m\u001b[0mcolumns\u001b[0m\u001b[0;34m(\u001b[0m\u001b[0;34m\"RSI\"\u001b[0m\u001b[0;34m)\u001b[0m\u001b[0;34m\u001b[0m\u001b[0;34m\u001b[0m\u001b[0m\n\u001b[0m",
      "\u001b[0;31mTypeError\u001b[0m: 'RangeIndex' object is not callable"
     ]
    }
   ],
   "source": [
    "# aapl_rsi.columns0(\"RSI\")"
   ]
  },
  {
   "cell_type": "code",
   "execution_count": 42,
   "metadata": {},
   "outputs": [
    {
     "name": "stdout",
     "output_type": "stream",
     "text": [
      "(                             OBV\n",
      "date                            \n",
      "2021-01-04 04:30:00      83035.0\n",
      "2021-01-04 05:00:00      53941.0\n",
      "2021-01-04 05:30:00      -1806.0\n",
      "2021-01-04 06:00:00     105704.0\n",
      "2021-01-04 06:30:00      89922.0\n",
      "...                          ...\n",
      "2021-02-12 18:00:00 -164490666.0\n",
      "2021-02-12 18:30:00 -164518253.0\n",
      "2021-02-12 19:00:00 -164543778.0\n",
      "2021-02-12 19:30:00 -164563253.0\n",
      "2021-02-12 20:00:00 -164513528.0\n",
      "\n",
      "[928 rows x 1 columns], {'1: Symbol': 'aapl', '2: Indicator': 'On Balance Volume (OBV)', '3: Last Refreshed': '2021-02-12 20:00:00', '4: Interval': '30min', '5: Time Zone': 'US/Eastern Time'})\n"
     ]
    }
   ],
   "source": [
    "app_3 = ti(output_format='pandas')\n",
    "\n",
    "aapl_obv = app.get_obv('aapl', interval = '30min')\n",
    "\n",
    "print(aapl_obv)"
   ]
  },
  {
   "cell_type": "code",
   "execution_count": 43,
   "metadata": {},
   "outputs": [
    {
     "name": "stdout",
     "output_type": "stream",
     "text": [
      "(                          SMA\n",
      "date                         \n",
      "2021-01-05 18:00:00  130.0835\n",
      "2021-01-05 18:30:00  130.0466\n",
      "2021-01-05 19:00:00  130.0000\n",
      "2021-01-05 19:30:00  129.9545\n",
      "2021-01-05 20:00:00  129.9048\n",
      "...                       ...\n",
      "2021-02-12 18:00:00  134.6672\n",
      "2021-02-12 18:30:00  134.6697\n",
      "2021-02-12 19:00:00  134.6664\n",
      "2021-02-12 19:30:00  134.6617\n",
      "2021-02-12 20:00:00  134.6564\n",
      "\n",
      "[869 rows x 1 columns], {'1: Symbol': 'aapl', '2: Indicator': 'Simple Moving Average (SMA)', '3: Last Refreshed': '2021-02-12 20:00:00', '4: Interval': '30min', '5: Time Period': 60, '6: Series Type': 'close, open, high, low', '7: Time Zone': 'US/Eastern'})\n"
     ]
    }
   ],
   "source": [
    "app_4 = ti(output_format='pandas')\n",
    "\n",
    "aapl_sma = app.get_sma('aapl', interval= '30min', time_period=60, series_type=['close, open, high, low'])\n",
    "\n",
    "print(aapl_sma)"
   ]
  },
  {
   "cell_type": "code",
   "execution_count": 44,
   "metadata": {},
   "outputs": [
    {
     "name": "stdout",
     "output_type": "stream",
     "text": [
      "(                          EMA\n",
      "date                         \n",
      "2021-01-05 18:00:00  130.0835\n",
      "2021-01-05 18:30:00  130.1006\n",
      "2021-01-05 19:00:00  130.1138\n",
      "2021-01-05 19:30:00  130.1266\n",
      "2021-01-05 20:00:00  130.1357\n",
      "...                       ...\n",
      "2021-02-12 18:00:00  134.7104\n",
      "2021-02-12 18:30:00  134.7330\n",
      "2021-02-12 19:00:00  134.7516\n",
      "2021-02-12 19:30:00  134.7702\n",
      "2021-02-12 20:00:00  134.7886\n",
      "\n",
      "[869 rows x 1 columns], {'1: Symbol': 'aapl', '2: Indicator': 'Exponential Moving Average (EMA)', '3: Last Refreshed': '2021-02-12 20:00:00', '4: Interval': '30min', '5: Time Period': 60, '6: Series Type': 'close, open, high, low', '7: Time Zone': 'US/Eastern'})\n"
     ]
    }
   ],
   "source": [
    "app_5 = ti(output_format='pandas')\n",
    "\n",
    "aapl_ema = app.get_ema('aapl', interval= '30min', time_period=60, series_type=['close, open, high, low'])\n",
    "\n",
    "print(aapl_ema)"
   ]
  },
  {
   "cell_type": "code",
   "execution_count": 46,
   "metadata": {},
   "outputs": [
    {
     "name": "stdout",
     "output_type": "stream",
     "text": [
      "(                     Real Middle Band  Real Lower Band  Real Upper Band\n",
      "date                                                                   \n",
      "2021-02-12 20:00:00          134.6564         133.6007         135.7121\n",
      "2021-02-12 19:30:00          134.6617         133.5894         135.7340\n",
      "2021-02-12 19:00:00          134.6664         133.5803         135.7525\n",
      "2021-02-12 18:30:00          134.6697         133.5747         135.7648\n",
      "2021-02-12 18:00:00          134.6672         133.5782         135.7563\n",
      "...                               ...              ...              ...\n",
      "2021-01-05 20:00:00          129.9048         126.7328         133.0768\n",
      "2021-01-05 19:30:00          129.9545         126.6614         133.2477\n",
      "2021-01-05 19:00:00          130.0000         126.6041         133.3958\n",
      "2021-01-05 18:30:00          130.0466         126.5491         133.5441\n",
      "2021-01-05 18:00:00          130.0835         126.5171         133.6499\n",
      "\n",
      "[869 rows x 3 columns], {'1: Symbol': 'aapl', '2: Indicator': 'Bollinger Bands (BBANDS)', '3: Last Refreshed': '2021-02-12 20:00:00', '4: Interval': '30min', '5: Time Period': 60, '6.1: Deviation multiplier for upper band': 2, '6.2: Deviation multiplier for lower band': 2, '6.3: MA Type': 0, '7: Series Type': 'close, open, high, low', '8: Time Zone': 'US/Eastern Time'})\n"
     ]
    },
    {
     "ename": "AttributeError",
     "evalue": "'tuple' object has no attribute 'plot'",
     "output_type": "error",
     "traceback": [
      "\u001b[0;31m---------------------------------------------------------------------------\u001b[0m",
      "\u001b[0;31mAttributeError\u001b[0m                            Traceback (most recent call last)",
      "\u001b[0;32m<ipython-input-46-7f911b3c4077>\u001b[0m in \u001b[0;36m<module>\u001b[0;34m\u001b[0m\n\u001b[1;32m      5\u001b[0m \u001b[0mprint\u001b[0m\u001b[0;34m(\u001b[0m\u001b[0maapl_bbands\u001b[0m\u001b[0;34m)\u001b[0m\u001b[0;34m\u001b[0m\u001b[0;34m\u001b[0m\u001b[0m\n\u001b[1;32m      6\u001b[0m \u001b[0;34m\u001b[0m\u001b[0m\n\u001b[0;32m----> 7\u001b[0;31m \u001b[0maapl_bbands\u001b[0m\u001b[0;34m.\u001b[0m\u001b[0mplot\u001b[0m\u001b[0;34m(\u001b[0m\u001b[0;34m)\u001b[0m\u001b[0;34m\u001b[0m\u001b[0;34m\u001b[0m\u001b[0m\n\u001b[0m",
      "\u001b[0;31mAttributeError\u001b[0m: 'tuple' object has no attribute 'plot'"
     ]
    }
   ],
   "source": [
    "app_6 = ti(output_format='pandas')\n",
    "\n",
    "aapl_bbands = app.get_bbands('aapl', interval= '30min', time_period=60, series_type=['close, open, high, low'])\n",
    "\n",
    "print(aapl_bbands)\n",
    "\n",
    "aapl_bbands.plot()"
   ]
  },
  {
   "cell_type": "code",
   "execution_count": null,
   "metadata": {},
   "outputs": [],
   "source": [
    "#Trading algorithm\n",
    "def MKG_trading_algo():\n",
    "    if clock.is_open == True:\n",
    "        if bool(portfolio) == False:\n",
    "            #ex. MACD rises etc.\n",
    "            if []:\n",
    "                api.submit_order(symbol = stockDEF, qty = number_of_shares,side = 'buy',type = 'market' ,time_in_force = 'day')\n",
    "                mail_content = \"Trades have been made, XYZ...\"\n",
    "            #ex.MACD drops etc.\n",
    "            elif []:\n",
    "                api.submit_order(stockABC = stockDEF, qty = number_of_shares,side = 'sell',type = 'market', time_in_force ='day')\n",
    "                mail_content = \"Trades have been made, XYZ...\" \n",
    "        else:\n",
    "            if []:\n",
    "                api.close_position(stockABC)\n",
    "                api.open_position(stockDEF)\n",
    "                mail_content = \"XYZ positions have been traded\"\n",
    "            else:\n",
    "                mail_content = \"No trades were made, positions remains the same\"\n",
    "                pass\n",
    "    else:\n",
    "        mail_content = \"The Market is Closed\"\n",
    "        \n",
    "    #Set email sender and receiver\n",
    "    sender_address = 'boltleyfool@gmail.com' \n",
    "    receiver_address='boltleyfool@gmail.com'\n",
    "    \n",
    "    #Setup MIME\n",
    "    message=MIMEMultipart()\n",
    "    message['From']='Botley'\n",
    "    message['To']=receiver_address\n",
    "    message['Subject']='Trade Notification'\n",
    "    \n",
    "    #The body and the attachments for the mail\n",
    "    message.attach(MIMEText(mail_content,'plain'))\n",
    "    \n",
    "    #Create SMTP session using gmail and port 587\n",
    "    session = smtplib.SMTP('smtp.gmail.com', 587)\n",
    "    \n",
    "     #Start transport layer security\n",
    "    session.starttls()\n",
    "    \n",
    "    #Login\n",
    "    session.login(sender_address,sender_password)\n",
    "    \n",
    "    #Set Text\n",
    "    text=message.as_string()\n",
    "    \n",
    "    #Send the email\n",
    "    session.sendmail(sender_address,receiver_address,text)\n",
    "    session.quit()\n",
    "    \n",
    "    done='Email Sent'\n",
    "\n",
    "    return done"
   ]
  },
  {
   "cell_type": "code",
   "execution_count": null,
   "metadata": {},
   "outputs": [],
   "source": []
  }
 ],
 "metadata": {
  "kernelspec": {
   "display_name": "Python 3",
   "language": "python",
   "name": "python3"
  },
  "language_info": {
   "codemirror_mode": {
    "name": "ipython",
    "version": 3
   },
   "file_extension": ".py",
   "mimetype": "text/x-python",
   "name": "python",
   "nbconvert_exporter": "python",
   "pygments_lexer": "ipython3",
   "version": "3.7.7"
  }
 },
 "nbformat": 4,
 "nbformat_minor": 4
}
