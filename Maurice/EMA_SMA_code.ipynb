{
 "cells": [
  {
   "cell_type": "code",
   "execution_count": 101,
   "metadata": {},
   "outputs": [],
   "source": [
    "import os\n",
    "import requests\n",
    "import pandas as pd\n",
    "from dotenv import load_dotenv\n",
    "import matplotlib.pyplot as plt\n",
    "import alpaca_trade_api as tradeapi\n",
    "import alpha_vantage as av_api\n",
    "from alpha_vantage.alphavantage import AlphaVantage\n",
    "from alpha_vantage.techindicators import TechIndicators as ti\n",
    "from alpha_vantage.alphavantage import csv\n",
    "from alpha_vantage.timeseries import TimeSeries as ts\n",
    "import smtplib\n",
    "from email.mime.multipart import MIMEMultipart\n",
    "from email.mime.text import MIMEText\n",
    "\n"
   ]
  },
  {
   "cell_type": "code",
   "execution_count": 102,
   "metadata": {},
   "outputs": [
    {
     "data": {
      "text/plain": [
       "True"
      ]
     },
     "execution_count": 102,
     "metadata": {},
     "output_type": "execute_result"
    }
   ],
   "source": [
    "# Load .env enviroment variables\n",
    "load_dotenv()"
   ]
  },
  {
   "cell_type": "code",
   "execution_count": 103,
   "metadata": {},
   "outputs": [],
   "source": [
    "# Set email variables\n",
    "sender_password = os.getenv(\"SENDER_PASSWORD\")\n",
    "sender_address = 'boltleyfool@gmail.com' \n",
    "receiver_address = 'mauricedure23@gmail.com'"
   ]
  },
  {
   "cell_type": "code",
   "execution_count": 104,
   "metadata": {},
   "outputs": [],
   "source": [
    "#Specify paper trading environment & set API keys\n",
    "alpaca_paper_endpoint = os.getenv(\"ALPACA_PAPER_ENDPOINT\")\n",
    "alpaca_api_key = os.getenv(\"ALPACA_API_KEY\")\n",
    "alpaca_secret_key = os.getenv(\"ALPACA_SECRET_KEY\")\n",
    "sender_password = os.getenv(\"Email_Password\")\n",
    "\n",
    "#Create API object\n",
    "alpaca_api = tradeapi.REST(\n",
    "    alpaca_api_key,\n",
    "    alpaca_secret_key,\n",
    "    alpaca_paper_endpoint,\n",
    "    api_version='v2'\n",
    ")\n",
    "\n",
    "\n",
    "#Get Account\n",
    "account = alpaca_api.get_account()\n",
    "\n",
    "#Get portfolio and clock\n",
    "portfolio=alpaca_api.list_positions()\n",
    "clock=alpaca_api.get_clock()"
   ]
  },
  {
   "cell_type": "code",
   "execution_count": 88,
   "metadata": {},
   "outputs": [],
   "source": [
    "## Create AlphaVantage Technical Indicators API object and assign indicator variables"
   ]
  },
  {
   "cell_type": "code",
   "execution_count": 113,
   "metadata": {},
   "outputs": [
    {
     "name": "stdout",
     "output_type": "stream",
     "text": [
      "(            MACD_Signal    MACD  MACD_Hist\n",
      "date                                      \n",
      "2021-02-11       1.9905  1.5261    -0.4644\n",
      "2021-02-10       2.1066  1.6991    -0.4075\n",
      "2021-02-09       2.2084  1.8688    -0.3397\n",
      "2021-02-08       2.2933  1.9950    -0.2983\n",
      "2021-02-05       2.3679  2.0355    -0.3324\n",
      "...                 ...     ...        ...\n",
      "1999-12-23       0.0295  0.0201    -0.0094\n",
      "1999-12-22       0.0318  0.0196    -0.0122\n",
      "1999-12-21       0.0349  0.0214    -0.0134\n",
      "1999-12-20       0.0382  0.0215    -0.0168\n",
      "1999-12-17       0.0424  0.0247    -0.0177\n",
      "\n",
      "[5322 rows x 3 columns], {'1: Symbol': 'aapl', '2: Indicator': 'Moving Average Convergence/Divergence (MACD)', '3: Last Refreshed': '2021-02-11', '4: Interval': 'daily', '5.1: Fast Period': 12, '5.2: Slow Period': 26, '5.3: Signal Period': 9, '6: Series Type': 'close', '7: Time Zone': 'US/Eastern'})\n"
     ]
    }
   ],
   "source": [
    "# Configure AlphaVantage API object and query variable\n",
    "api_key = os.getenv('ALPHAVANTAGE_API_KEY')\n",
    "\n",
    "base_url = 'https://www.alphavantage.co/query?'\n",
    "params = {'function': 'TIME_SERIES_DAILY_ADJUSTED',\n",
    "         'symbol': 'aapl',\n",
    "        'apikey': api_key}\n",
    "\n",
    "app = ti(output_format='pandas')\n",
    "\n",
    "aapl_macd = app.get_macd('aapl', fastperiod=12, slowperiod=26, signalperiod=9)\n",
    "\n",
    "print(aapl_macd)\n",
    "\n",
    "#Plot the MACD Indicator as a graph\n",
    "\n"
   ]
  },
  {
   "cell_type": "code",
   "execution_count": 90,
   "metadata": {},
   "outputs": [
    {
     "name": "stdout",
     "output_type": "stream",
     "text": [
      "(                         RSI\n",
      "date                        \n",
      "2020-12-21 17:00:00  49.7934\n",
      "2020-12-21 18:00:00  53.3237\n",
      "2020-12-21 19:00:00  54.7963\n",
      "2020-12-21 20:00:00  54.5827\n",
      "2020-12-22 05:00:00  54.9222\n",
      "...                      ...\n",
      "2021-02-10 16:00:00  48.1474\n",
      "2021-02-10 17:00:00  48.6166\n",
      "2021-02-10 18:00:00  48.6166\n",
      "2021-02-10 19:00:00  48.6406\n",
      "2021-02-10 20:00:00  48.0916\n",
      "\n",
      "[543 rows x 1 columns], {'1: Symbol': 'aapl', '2: Indicator': 'Relative Strength Index (RSI)', '3: Last Refreshed': '2021-02-10 20:00:00', '4: Interval': '60min', '5: Time Period': 60, '6: Series Type': 'close, open, high, low', '7: Time Zone': 'US/Eastern Time'})\n"
     ]
    }
   ],
   "source": [
    "app_2 = ti(output_format='pandas')\n",
    "\n",
    "aapl_rsi = app.get_rsi('aapl', interval= '60min', time_period=60, series_type=['close, open, high, low'])\n",
    "\n",
    "fig, ax2 = plt.subplots()\n",
    "ax2.plot()\n",
    "\n",
    "aapl_rsi\n",
    "print(aapl_rsi)"
   ]
  },
  {
   "cell_type": "code",
   "execution_count": 91,
   "metadata": {},
   "outputs": [
    {
     "name": "stdout",
     "output_type": "stream",
     "text": [
      "(                             OBV\n",
      "date                            \n",
      "2020-12-16 05:00:00      57964.0\n",
      "2020-12-16 06:00:00      86286.0\n",
      "2020-12-16 07:00:00     -47876.0\n",
      "2020-12-16 08:00:00     316230.0\n",
      "2020-12-16 09:00:00    -295457.0\n",
      "...                          ...\n",
      "2021-02-10 16:00:00 -285157279.0\n",
      "2021-02-10 17:00:00 -287500558.0\n",
      "2021-02-10 18:00:00 -287579382.0\n",
      "2021-02-10 19:00:00 -287526210.0\n",
      "2021-02-10 20:00:00 -287673387.0\n",
      "\n",
      "[603 rows x 1 columns], {'1: Symbol': 'aapl', '2: Indicator': 'On Balance Volume (OBV)', '3: Last Refreshed': '2021-02-10 20:00:00', '4: Interval': '60min', '5: Time Zone': 'US/Eastern Time'})\n"
     ]
    }
   ],
   "source": [
    "app_3 = ti(output_format='pandas')\n",
    "\n",
    "aapl_obv = app.get_obv('aapl', interval = '60min')\n",
    "\n",
    "print(aapl_obv)"
   ]
  },
  {
   "cell_type": "code",
   "execution_count": 92,
   "metadata": {},
   "outputs": [
    {
     "name": "stdout",
     "output_type": "stream",
     "text": [
      "(                          SMA\n",
      "date                         \n",
      "2020-12-21 16:00:00  126.8897\n",
      "2020-12-21 17:00:00  126.8880\n",
      "2020-12-21 18:00:00  126.9093\n",
      "2020-12-21 19:00:00  126.9712\n",
      "2020-12-21 20:00:00  127.0251\n",
      "...                       ...\n",
      "2021-02-10 16:00:00  136.1760\n",
      "2021-02-10 17:00:00  136.1452\n",
      "2021-02-10 18:00:00  136.1047\n",
      "2021-02-10 19:00:00  136.0640\n",
      "2021-02-10 20:00:00  136.0175\n",
      "\n",
      "[544 rows x 1 columns], {'1: Symbol': 'aapl', '2: Indicator': 'Simple Moving Average (SMA)', '3: Last Refreshed': '2021-02-10 20:00:00', '4: Interval': '60min', '5: Time Period': 60, '6: Series Type': 'close, open, high, low', '7: Time Zone': 'US/Eastern'})\n"
     ]
    }
   ],
   "source": [
    "app_4 = ti(output_format='pandas')\n",
    "\n",
    "aapl_sma = app.get_sma('aapl', interval= '60min', time_period=60, series_type=['close, open, high, low'])\n",
    "\n",
    "print(aapl_sma)"
   ]
  },
  {
   "cell_type": "code",
   "execution_count": 93,
   "metadata": {},
   "outputs": [
    {
     "name": "stdout",
     "output_type": "stream",
     "text": [
      "(                          EMA\n",
      "date                         \n",
      "2020-12-21 16:00:00  126.8897\n",
      "2020-12-21 17:00:00  126.9191\n",
      "2020-12-21 18:00:00  127.0066\n",
      "2020-12-21 19:00:00  127.1180\n",
      "2020-12-21 20:00:00  127.2225\n",
      "...                       ...\n",
      "2021-02-10 16:00:00  135.8484\n",
      "2021-02-10 17:00:00  135.8255\n",
      "2021-02-10 18:00:00  135.8034\n",
      "2021-02-10 19:00:00  135.7823\n",
      "2021-02-10 20:00:00  135.7540\n",
      "\n",
      "[544 rows x 1 columns], {'1: Symbol': 'aapl', '2: Indicator': 'Exponential Moving Average (EMA)', '3: Last Refreshed': '2021-02-10 20:00:00', '4: Interval': '60min', '5: Time Period': 60, '6: Series Type': 'close, open, high, low', '7: Time Zone': 'US/Eastern'})\n"
     ]
    }
   ],
   "source": [
    "app_5 = ti(output_format='pandas')\n",
    "\n",
    "aapl_ema = app.get_ema('aapl', interval= '60min', time_period=60, series_type=['close, open, high, low'])\n",
    "\n",
    "print(aapl_ema)"
   ]
  },
  {
   "cell_type": "code",
   "execution_count": 95,
   "metadata": {},
   "outputs": [
    {
     "name": "stdout",
     "output_type": "stream",
     "text": [
      "(                     Real Middle Band  Real Lower Band  Real Upper Band\n",
      "date                                                                   \n",
      "2021-02-10 20:00:00          136.0175         134.8228         137.2122\n",
      "2021-02-10 19:00:00          136.0640         134.8274         137.3006\n",
      "2021-02-10 18:00:00          136.1047         134.8297         137.3796\n",
      "2021-02-10 17:00:00          136.1452         134.8401         137.4502\n",
      "2021-02-10 16:00:00          136.1760         134.8790         137.4730\n",
      "...                               ...              ...              ...\n",
      "2020-12-21 20:00:00          127.0251         123.8919         130.1584\n",
      "2020-12-21 19:00:00          126.9712         123.9565         129.9859\n",
      "2020-12-21 18:00:00          126.9093         124.0296         129.7890\n",
      "2020-12-21 17:00:00          126.8880         124.0696         129.7065\n",
      "2020-12-21 16:00:00          126.8897         124.0690         129.7104\n",
      "\n",
      "[544 rows x 3 columns], {'1: Symbol': 'aapl', '2: Indicator': 'Bollinger Bands (BBANDS)', '3: Last Refreshed': '2021-02-10 20:00:00', '4: Interval': '60min', '5: Time Period': 60, '6.1: Deviation multiplier for upper band': 2, '6.2: Deviation multiplier for lower band': 2, '6.3: MA Type': 0, '7: Series Type': 'close, open, high, low', '8: Time Zone': 'US/Eastern Time'})\n"
     ]
    }
   ],
   "source": [
    "app_6 = ti(output_format='pandas')\n",
    "\n",
    "aapl_bbands = app.get_bbands('aapl', interval= '60min', time_period=60, series_type=['close, open, high, low'])\n",
    "\n",
    "print(aapl_bbands)"
   ]
  },
  {
   "cell_type": "code",
   "execution_count": 96,
   "metadata": {},
   "outputs": [],
   "source": [
    "#Trading algorithm\n",
    "def MKG_trading_algo():\n",
    "    if clock.is_open == True:\n",
    "        if bool(portfolio) == False:\n",
    "            #ex. MACD rises etc.\n",
    "            if []:\n",
    "                api.submit_order(symbol = stockDEF, qty = number_of_shares,side = 'buy',type = 'market' ,time_in_force = 'day')\n",
    "                mail_content = \"Trades have been made, XYZ...\"\n",
    "            #ex.MACD drops etc.\n",
    "            elif []:\n",
    "                api.submit_order(stockABC = stockDEF, qty = number_of_shares,side = 'sell',type = 'market', time_in_force ='day')\n",
    "                mail_content = \"Trades have been made, XYZ...\" \n",
    "        else:\n",
    "            if []:\n",
    "                api.close_position(stockABC)\n",
    "                api.open_position(stockDEF)\n",
    "                mail_content = \"XYZ positions have been traded\"\n",
    "            else:\n",
    "                mail_content = \"No trades were made, positions remains the same\"\n",
    "                pass\n",
    "    else:\n",
    "        mail_content = \"The Market is Closed\"\n",
    "        \n",
    "    #Set email sender and receiver\n",
    "    sender_address = 'boltleyfool@gmail.com' \n",
    "    receiver_address='boltleyfool@gmail.com'\n",
    "    \n",
    "    #Setup MIME\n",
    "    message=MIMEMultipart()\n",
    "    message['From']='Botley'\n",
    "    message['To']=receiver_address\n",
    "    message['Subject']='Trade Notification'\n",
    "    \n",
    "    #The body and the attachments for the mail\n",
    "    message.attach(MIMEText(mail_content,'plain'))\n",
    "    \n",
    "    #Create SMTP session using gmail and port 587\n",
    "    session = smtplib.SMTP('smtp.gmail.com', 587)\n",
    "    \n",
    "     #Start transport layer security\n",
    "    session.starttls()\n",
    "    \n",
    "    #Login\n",
    "    session.login(sender_address,sender_password)\n",
    "    \n",
    "    #Set Text\n",
    "    text=message.as_string()\n",
    "    \n",
    "    #Send the email\n",
    "    session.sendmail(sender_address,receiver_address,text)\n",
    "    session.quit()\n",
    "    \n",
    "    done='Email Sent'\n",
    "\n",
    "    return done"
   ]
  },
  {
   "cell_type": "code",
   "execution_count": null,
   "metadata": {},
   "outputs": [],
   "source": []
  }
 ],
 "metadata": {
  "kernelspec": {
   "display_name": "Python 3",
   "language": "python",
   "name": "python3"
  },
  "language_info": {
   "codemirror_mode": {
    "name": "ipython",
    "version": 3
   },
   "file_extension": ".py",
   "mimetype": "text/x-python",
   "name": "python",
   "nbconvert_exporter": "python",
   "pygments_lexer": "ipython3",
   "version": "3.7.7"
  }
 },
 "nbformat": 4,
 "nbformat_minor": 4
}
