{
 "cells": [
  {
   "cell_type": "code",
   "execution_count": 17,
   "metadata": {},
   "outputs": [],
   "source": [
    "import os\n",
    "import requests\n",
    "import pandas as pd\n",
    "from dotenv import load_dotenv\n",
    "import alpaca_trade_api as tradeapi\n",
    "import smtplib\n",
    "from email.mime.multipart import MIMEMultipart\n",
    "from email.mime.text import MIMEText\n",
    "\n",
    "%matplotlib inline"
   ]
  },
  {
   "cell_type": "code",
   "execution_count": 18,
   "metadata": {},
   "outputs": [
    {
     "data": {
      "text/plain": [
       "True"
      ]
     },
     "execution_count": 18,
     "metadata": {},
     "output_type": "execute_result"
    }
   ],
   "source": [
    "# Load .env enviroment variables\n",
    "load_dotenv()"
   ]
  },
  {
   "cell_type": "code",
   "execution_count": 20,
   "metadata": {},
   "outputs": [],
   "source": [
    "#Specify paper trading environment & set API keys\n",
    "alpaca_paper_endpoint = os.getenv(\"ALPACA_PAPER_ENDPOINT\")\n",
    "alpaca_api_key = os.getenv(\"ALPACA_API_KEY\")\n",
    "alpaca_secret_key = os.getenv(\"ALPACA_SECRET_KEY\")\n",
    "sender_password = os.getenv(\"Email_Password\")\n",
    "\n",
    "#Create API object\n",
    "alpaca_api = tradeapi.REST(\n",
    "    alpaca_api_key,\n",
    "    alpaca_secret_key,\n",
    "    alpaca_paper_endpoint,\n",
    "    api_version='v2'\n",
    ")\n",
    "\n",
    "#av_api\n",
    "\n",
    "#Get Account\n",
    "account = api.get_account()\n",
    "\n",
    "#Get portfolio and clock\n",
    "portfolio=api.list_positions()\n",
    "clock=api.get_clock()"
   ]
  },
  {
   "cell_type": "code",
   "execution_count": 16,
   "metadata": {},
   "outputs": [],
   "source": [
    "#Trading algorithm\n",
    "def MKG_trading_algo():\n",
    "    if clock.is_open == True:\n",
    "        if bool(portfolio) == False:\n",
    "            #ex. MACD rises etc.\n",
    "            if []:\n",
    "                api.submit_order(symbol = stockDEF, qty = number_of_shares,side = 'buy',type = 'market' ,time_in_force = 'day')\n",
    "                mail_content = \"Trades have been made, XYZ...\"\n",
    "            #ex.MACD drops etc.\n",
    "            elif []:\n",
    "                api.submit_order(stockABC = stockDEF, qty = number_of_shares,side = 'sell',type = 'market', time_in_force ='day')\n",
    "                mail_content = \"Trades have been made, XYZ...\" \n",
    "        else:\n",
    "            if []:\n",
    "                api.close_position(stockABC)\n",
    "                api.open_position(stockDEF)\n",
    "                mail_content = \"XYZ positions have been traded\"\n",
    "            else:\n",
    "                mail_content = \"No trades were made, positions remains the same\"\n",
    "                pass\n",
    "    else:\n",
    "        mail_content = \"The Market is Closed\"\n",
    "        \n",
    "    #Set email sender and receiver\n",
    "    sender_address = 'boltleyfool@gmail.com' \n",
    "    receiver_address='boltleyfool@gmail.com'\n",
    "    \n",
    "    #Setup MIME\n",
    "    message=MIMEMultipart()\n",
    "    message['From']='Botley'\n",
    "    message['To']=receiver_address\n",
    "    message['Subject']='Trade Notification'\n",
    "    \n",
    "    #The body and the attachments for the mail\n",
    "    message.attach(MIMEText(mail_content,'plain'))\n",
    "    \n",
    "    #Create SMTP session using gmail and port 587\n",
    "    session = smtplib.SMTP('smtp.gmail.com', 587)\n",
    "    \n",
    "     #Start transport layer security\n",
    "    session.starttls()\n",
    "    \n",
    "    #Login\n",
    "    session.login(sender_address,sender_password)\n",
    "    \n",
    "    #Set Text\n",
    "    text=message.as_string()\n",
    "    \n",
    "    #Send the email\n",
    "    session.sendmail(sender_address,receiver_address,text)\n",
    "    session.quit()\n",
    "    \n",
    "    done='Email Sent'\n",
    "\n",
    "    return done"
   ]
  },
  {
   "cell_type": "code",
   "execution_count": null,
   "metadata": {},
   "outputs": [],
   "source": []
  }
 ],
 "metadata": {
  "kernelspec": {
   "display_name": "Python 3",
   "language": "python",
   "name": "python3"
  },
  "language_info": {
   "codemirror_mode": {
    "name": "ipython",
    "version": 3
   },
   "file_extension": ".py",
   "mimetype": "text/x-python",
   "name": "python",
   "nbconvert_exporter": "python",
   "pygments_lexer": "ipython3",
   "version": "3.7.7"
  }
 },
 "nbformat": 4,
 "nbformat_minor": 4
}
